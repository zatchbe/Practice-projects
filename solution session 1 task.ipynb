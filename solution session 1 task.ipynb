{
 "cells": [
  {
   "cell_type": "markdown",
   "metadata": {
    "id": "A05OG15VqOPF"
   },
   "source": [
    "# Task : Session 1\n",
    "Solve these questions own your own and try to test yourself what you have learned in the session.\n",
    "\n",
    "Happy Learning!"
   ]
  },
  {
   "cell_type": "markdown",
   "metadata": {
    "id": "2doIXf8bqe9_"
   },
   "source": [
    "### Q1 :- Print the given strings as per stated format.\n",
    "\n",
    "**Given strings**: \n",
    "```\n",
    "\"Data\" \"Science\" \"Mentorship\" \"Program\" \n",
    "\"By\" \"CampusX\"\n",
    "```\n",
    "**Output**: \n",
    "``` \n",
    "Data-Science-Mentorship-Program-started-By-CampusX\n",
    "```\n",
    "\n",
    "Concept- [Seperator and End]"
   ]
  },
  {
   "cell_type": "code",
   "execution_count": 1,
   "metadata": {
    "colab": {
     "base_uri": "https://localhost:8080/"
    },
    "id": "nPVkLEVE6_Xm",
    "outputId": "55cf717d-2714-449e-95aa-28b8190970ba"
   },
   "outputs": [
    {
     "name": "stdout",
     "output_type": "stream",
     "text": [
      "Data-Science-Mentorship-Program-started-By-CampusX\n"
     ]
    }
   ],
   "source": [
    "print('Data-Science-Mentorship-Program-started-By-CampusX')"
   ]
  },
  {
   "cell_type": "code",
   "execution_count": 2,
   "metadata": {
    "colab": {
     "base_uri": "https://localhost:8080/"
    },
    "id": "7TJFkF1A7vwS",
    "outputId": "c304d14a-4c09-4df2-f2d5-0ce11d96280c"
   },
   "outputs": [
    {
     "name": "stdout",
     "output_type": "stream",
     "text": [
      "Data-Science-Mentorship-Program-started-By-CampusX\n"
     ]
    }
   ],
   "source": [
    "print('Data','Science','Mentorship','Program','started','By','CampusX', sep='-')"
   ]
  },
  {
   "cell_type": "code",
   "execution_count": 3,
   "metadata": {
    "colab": {
     "base_uri": "https://localhost:8080/"
    },
    "id": "7-0qZGY38N71",
    "jupyter": {
     "source_hidden": true
    },
    "outputId": "4576e0c1-60d9-469d-e96a-0bfc95ac3805",
    "tags": []
   },
   "outputs": [
    {
     "name": "stdout",
     "output_type": "stream",
     "text": [
      "Data-Science-Mentorship-Program-started-By-CampusX\n"
     ]
    }
   ],
   "source": [
    "print('Data',end='-')\n",
    "print('Science',end='-')\n",
    "print('Mentorship',end='-')\n",
    "print('Program',end='-')\n",
    "print('started',end='-')\n",
    "print('By',end='-')\n",
    "print('CampusX')"
   ]
  },
  {
   "cell_type": "code",
   "execution_count": 4,
   "metadata": {
    "id": "-em6d3KErDtp"
   },
   "outputs": [],
   "source": [
    "# Write your code here"
   ]
  },
  {
   "cell_type": "markdown",
   "metadata": {
    "id": "1KUpN7ZTrC3_"
   },
   "source": [
    "### Q2:- Write a program that will convert celsius value to fahrenheit."
   ]
  },
  {
   "cell_type": "code",
   "execution_count": 7,
   "metadata": {
    "colab": {
     "base_uri": "https://localhost:8080/"
    },
    "id": "yxKYhYQiqWfj",
    "outputId": "785f64c1-1712-4df3-e554-270e0a538889"
   },
   "outputs": [
    {
     "name": "stdin",
     "output_type": "stream",
     "text": [
      "enter which celsius to convert into fahrenheit  37\n"
     ]
    },
    {
     "name": "stdout",
     "output_type": "stream",
     "text": [
      "fahrenheit = 98.6\n"
     ]
    }
   ],
   "source": [
    "# Write your code here\n",
    "\n",
    "fah=float(input('enter which celsius to convert into fahrenheit '))\n",
    "print('fahrenheit =',(fah*9/5)+32)"
   ]
  },
  {
   "cell_type": "markdown",
   "metadata": {
    "id": "RLrOBBJurLB2"
   },
   "source": [
    "### Q3:- Take 2 numbers as input from the user.Write a program to swap the numbers without using any special python syntax."
   ]
  },
  {
   "cell_type": "code",
   "execution_count": null,
   "metadata": {
    "id": "yPn7if0TrJ4F"
   },
   "outputs": [],
   "source": [
    "# Write your code here"
   ]
  },
  {
   "cell_type": "markdown",
   "metadata": {
    "id": "waLCP1bjr7ML"
   },
   "source": [
    "### Q4:- Write a program to find the euclidean distance between two coordinates.Take both the coordinates from the user as input."
   ]
  },
  {
   "cell_type": "code",
   "execution_count": null,
   "metadata": {
    "colab": {
     "base_uri": "https://localhost:8080/"
    },
    "id": "Pl1Sv-xnrxnH",
    "outputId": "6c73ee99-c054-4991-e84d-4eef14449210"
   },
   "outputs": [
    {
     "name": "stdout",
     "output_type": "stream",
     "text": [
      "enter your x1 coordinates 2.5\n",
      "enter your y1 coordinates 3.5\n",
      "enter your x2 coordinates  4.5\n",
      "enter your y2 coordinates 5.5\n",
      "The euclidean distance between two coordinates is 8.0\n"
     ]
    }
   ],
   "source": [
    "# Write your code here\n",
    "#Take x1,y1 and x2,y2 from the user\n",
    "x1=float(input('enter your x1 coordinates '))\n",
    "y1=float(input('enter your y1 coordinates '))\n",
    "x2=float(input('enter your x2 coordinates  '))\n",
    "y2=float(input('enter your y2 coordinates '))\n",
    "#euclidean distance find by x2-x1 and y2-y1 and then both square and sum\n",
    "euc_dis=(x2-x1)**2 + (y2-y1)**2\n",
    "print('The euclidean distance between two coordinates is',euc_dis)\n",
    "\n"
   ]
  },
  {
   "cell_type": "markdown",
   "metadata": {
    "id": "VLrhg-FRsHjR"
   },
   "source": [
    "### Q5:- Write a program to find the simple interest when the value of principle,rate of interest and time period is provided by the user.\n"
   ]
  },
  {
   "cell_type": "code",
   "execution_count": null,
   "metadata": {
    "colab": {
     "base_uri": "https://localhost:8080/"
    },
    "id": "s40DlReZsTmY",
    "outputId": "dd8e23f9-4d97-4f49-9845-1f2e4b3f67f5"
   },
   "outputs": [
    {
     "name": "stdout",
     "output_type": "stream",
     "text": [
      "enter your principle 1000\n",
      "enter you rate of interest 5\n",
      "enter you Time period 2\n",
      "The simple interest is 100.0\n"
     ]
    }
   ],
   "source": [
    "# Write your code here\n",
    "#Take principle,rate of interest and Time from user\n",
    "p=float(input('enter your principle '))\n",
    "r=float(input('enter you rate of interest '))\n",
    "t=float(input('enter you Time period '))\n",
    "#then find S.I\n",
    "print('The simple interest is', p*r*t/100)"
   ]
  },
  {
   "cell_type": "markdown",
   "metadata": {
    "id": "LMy0BTUktYKa"
   },
   "source": [
    "### Q6:- Write a program that will tell the number of dogs and chicken are there when the user will provide the value of total heads and legs.\n",
    "\n",
    "For example:\n",
    "Input:\n",
    "heads -> 4\n",
    "legs -> 12\n",
    "<br>\n",
    "Output:\n",
    "dogs -> 2\n",
    "chicken -> 2\n",
    "\n",
    "\n",
    "\n"
   ]
  },
  {
   "cell_type": "code",
   "execution_count": null,
   "metadata": {
    "id": "XSBvJoA4tXaG"
   },
   "outputs": [],
   "source": [
    "# Write your code here\n",
    "\n"
   ]
  },
  {
   "cell_type": "markdown",
   "metadata": {
    "id": "gJ7C5kZYt4BP"
   },
   "source": [
    "### Q7:- Write a program to find the sum of squares of first n natural numbers where n will be provided by the user."
   ]
  },
  {
   "cell_type": "code",
   "execution_count": null,
   "metadata": {
    "colab": {
     "base_uri": "https://localhost:8080/"
    },
    "id": "_tHsmEHzt2nX",
    "outputId": "9b6beebb-75e6-46c7-ef95-597963d9db3d"
   },
   "outputs": [
    {
     "name": "stdout",
     "output_type": "stream",
     "text": [
      "enter you natural numbers 100\n",
      "338350.0\n"
     ]
    }
   ],
   "source": [
    "# Write your code here\n",
    "#First we take n number from user\n",
    "n=int(input('enter you natural numbers '))\n",
    "#Now we put n number in the formula of sum of squares first naturanl numbers\n",
    "sos= n*(n+1)*(2*n+1)/6\n",
    "print(sos)\n",
    "#print('Sum of squares of first',n,'natural no.'n*(n+1)*(2*n+1)/6 )\n",
    "#then get the answer \n"
   ]
  },
  {
   "cell_type": "code",
   "execution_count": null,
   "metadata": {
    "colab": {
     "base_uri": "https://localhost:8080/"
    },
    "id": "6PvVNVd4LUkV",
    "outputId": "66c73e4f-d266-4406-9861-4d2dd42a4297"
   },
   "outputs": [
    {
     "data": {
      "text/plain": [
       "55"
      ]
     },
     "execution_count": 22,
     "metadata": {},
     "output_type": "execute_result"
    }
   ],
   "source": [
    "25+16+9+4+1"
   ]
  },
  {
   "cell_type": "markdown",
   "metadata": {
    "id": "FHrMM7g-yG1h"
   },
   "source": [
    "### Q8:- Given the first 2 terms of an Arithmetic Series.Find the Nth term of the series. Assume all inputs are provided by the user."
   ]
  },
  {
   "cell_type": "code",
   "execution_count": null,
   "metadata": {
    "colab": {
     "base_uri": "https://localhost:8080/"
    },
    "id": "go4_kmZmyVSx",
    "outputId": "ac085ffc-b4c4-42a0-c48f-1736e89e7bea"
   },
   "outputs": [
    {
     "name": "stdout",
     "output_type": "stream",
     "text": [
      "enter any no. 1\n",
      "enter any no. 3\n",
      "enter nth no. 10\n",
      "The Nth number is 19\n"
     ]
    }
   ],
   "source": [
    "# Write your code here\n",
    "\n",
    "a=int(input('enter any no. '))\n",
    "b=int(input('enter any no. '))\n",
    "d=b-a\n",
    "int(d)\n",
    "n=int(input('enter nth no. '))\n",
    "print('The Nth number is', a+(n-1)*d)\n"
   ]
  },
  {
   "cell_type": "markdown",
   "metadata": {
    "id": "QgyRX_es1oum"
   },
   "source": [
    "88\n",
    "2### Q9:- Given 2 fractions, find the sum of those 2 fractions.Take the numerator and denominator values of the fractions from the user."
   ]
  },
  {
   "cell_type": "code",
   "execution_count": null,
   "metadata": {
    "colab": {
     "base_uri": "https://localhost:8080/"
    },
    "id": "X05xqFS1yW16",
    "outputId": "959bbf8b-381d-4ce6-fc69-3a88d3de6f0b"
   },
   "outputs": [
    {
     "name": "stdout",
     "output_type": "stream",
     "text": [
      "enter numerator1 2\n",
      "enter numerator2 4\n",
      "enter denominator1 2\n",
      "enter denominator2 4\n",
      "The sum of fractions is 2\n"
     ]
    }
   ],
   "source": [
    "# Write your code here\n",
    "num1=int(input('enter numerator1 '))\n",
    "num2=int(input('enter numerator2 '))\n",
    "deno1=int(input('enter denominator1 '))\n",
    "deno2=int(input('enter denominator2 '))\n",
    "n1=num1/deno1\n",
    "n2=num2/deno2\n",
    "print('The sum of fractions is',int(n1+n2))"
   ]
  },
  {
   "cell_type": "markdown",
   "metadata": {
    "id": "eaql38ln13u7"
   },
   "source": [
    "### Q10:- Given the height, width and breadth of a milk tank, you have to find out how many glasses of milk can be obtained? Assume all the inputs are provided by the user.\n",
    "\n",
    "\n",
    "\n",
    "Input:<br>\n",
    "Dimensions of the milk tank<br>\n",
    "H = 20cm, L = 20cm, B = 20cm\n",
    "<br><br>\n",
    "Dimensions of the glass<br>\n",
    "h = 3cm, r = 1cm"
   ]
  },
  {
   "cell_type": "code",
   "execution_count": null,
   "metadata": {
    "id": "FePZqno74eWv"
   },
   "outputs": [],
   "source": [
    "# Write your code here"
   ]
  }
 ],
 "metadata": {
  "colab": {
   "provenance": []
  },
  "kernelspec": {
   "display_name": "Python 3 (ipykernel)",
   "language": "python",
   "name": "python3"
  },
  "language_info": {
   "codemirror_mode": {
    "name": "ipython",
    "version": 3
   },
   "file_extension": ".py",
   "mimetype": "text/x-python",
   "name": "python",
   "nbconvert_exporter": "python",
   "pygments_lexer": "ipython3",
   "version": "3.9.12"
  }
 },
 "nbformat": 4,
 "nbformat_minor": 4
}
